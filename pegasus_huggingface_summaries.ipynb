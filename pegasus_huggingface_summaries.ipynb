{
  "nbformat": 4,
  "nbformat_minor": 0,
  "metadata": {
    "colab": {
      "name": "pegasus_huggingface_summaries.ipynb",
      "provenance": [],
      "authorship_tag": "ABX9TyNwdnfYSgVzEbZxNgAcwJ0S",
      "include_colab_link": true
    },
    "kernelspec": {
      "name": "python3",
      "display_name": "Python 3"
    },
    "accelerator": "GPU",
    "widgets": {
      "application/vnd.jupyter.widget-state+json": {
        "d45388e1360340f7aced274063af285a": {
          "model_module": "@jupyter-widgets/controls",
          "model_name": "HBoxModel",
          "state": {
            "_view_name": "HBoxView",
            "_dom_classes": [],
            "_model_name": "HBoxModel",
            "_view_module": "@jupyter-widgets/controls",
            "_model_module_version": "1.5.0",
            "_view_count": null,
            "_view_module_version": "1.5.0",
            "box_style": "",
            "layout": "IPY_MODEL_dc97d76cf9124cc7b99ce9d8b9694c11",
            "_model_module": "@jupyter-widgets/controls",
            "children": [
              "IPY_MODEL_66a822c1b5c24f66a032f083ae681aa2",
              "IPY_MODEL_22a32cc119014449997850ece08f4945"
            ]
          }
        },
        "dc97d76cf9124cc7b99ce9d8b9694c11": {
          "model_module": "@jupyter-widgets/base",
          "model_name": "LayoutModel",
          "state": {
            "_view_name": "LayoutView",
            "grid_template_rows": null,
            "right": null,
            "justify_content": null,
            "_view_module": "@jupyter-widgets/base",
            "overflow": null,
            "_model_module_version": "1.2.0",
            "_view_count": null,
            "flex_flow": null,
            "width": null,
            "min_width": null,
            "border": null,
            "align_items": null,
            "bottom": null,
            "_model_module": "@jupyter-widgets/base",
            "top": null,
            "grid_column": null,
            "overflow_y": null,
            "overflow_x": null,
            "grid_auto_flow": null,
            "grid_area": null,
            "grid_template_columns": null,
            "flex": null,
            "_model_name": "LayoutModel",
            "justify_items": null,
            "grid_row": null,
            "max_height": null,
            "align_content": null,
            "visibility": null,
            "align_self": null,
            "height": null,
            "min_height": null,
            "padding": null,
            "grid_auto_rows": null,
            "grid_gap": null,
            "max_width": null,
            "order": null,
            "_view_module_version": "1.2.0",
            "grid_template_areas": null,
            "object_position": null,
            "object_fit": null,
            "grid_auto_columns": null,
            "margin": null,
            "display": null,
            "left": null
          }
        },
        "66a822c1b5c24f66a032f083ae681aa2": {
          "model_module": "@jupyter-widgets/controls",
          "model_name": "FloatProgressModel",
          "state": {
            "_view_name": "ProgressView",
            "style": "IPY_MODEL_2ae3b3c24a3140a8b32f0af786138fef",
            "_dom_classes": [],
            "description": "Downloading: 100%",
            "_model_name": "FloatProgressModel",
            "bar_style": "success",
            "max": 1912529,
            "_view_module": "@jupyter-widgets/controls",
            "_model_module_version": "1.5.0",
            "value": 1912529,
            "_view_count": null,
            "_view_module_version": "1.5.0",
            "orientation": "horizontal",
            "min": 0,
            "description_tooltip": null,
            "_model_module": "@jupyter-widgets/controls",
            "layout": "IPY_MODEL_3abfc59da1d6427489dc707e8c5f917e"
          }
        },
        "22a32cc119014449997850ece08f4945": {
          "model_module": "@jupyter-widgets/controls",
          "model_name": "HTMLModel",
          "state": {
            "_view_name": "HTMLView",
            "style": "IPY_MODEL_bdb90cebeec84da9a922fcd1cdc92df2",
            "_dom_classes": [],
            "description": "",
            "_model_name": "HTMLModel",
            "placeholder": "​",
            "_view_module": "@jupyter-widgets/controls",
            "_model_module_version": "1.5.0",
            "value": " 1.91M/1.91M [01:02&lt;00:00, 30.8kB/s]",
            "_view_count": null,
            "_view_module_version": "1.5.0",
            "description_tooltip": null,
            "_model_module": "@jupyter-widgets/controls",
            "layout": "IPY_MODEL_7b3772338ff748f3b4fc729262cd8608"
          }
        },
        "2ae3b3c24a3140a8b32f0af786138fef": {
          "model_module": "@jupyter-widgets/controls",
          "model_name": "ProgressStyleModel",
          "state": {
            "_view_name": "StyleView",
            "_model_name": "ProgressStyleModel",
            "description_width": "initial",
            "_view_module": "@jupyter-widgets/base",
            "_model_module_version": "1.5.0",
            "_view_count": null,
            "_view_module_version": "1.2.0",
            "bar_color": null,
            "_model_module": "@jupyter-widgets/controls"
          }
        },
        "3abfc59da1d6427489dc707e8c5f917e": {
          "model_module": "@jupyter-widgets/base",
          "model_name": "LayoutModel",
          "state": {
            "_view_name": "LayoutView",
            "grid_template_rows": null,
            "right": null,
            "justify_content": null,
            "_view_module": "@jupyter-widgets/base",
            "overflow": null,
            "_model_module_version": "1.2.0",
            "_view_count": null,
            "flex_flow": null,
            "width": null,
            "min_width": null,
            "border": null,
            "align_items": null,
            "bottom": null,
            "_model_module": "@jupyter-widgets/base",
            "top": null,
            "grid_column": null,
            "overflow_y": null,
            "overflow_x": null,
            "grid_auto_flow": null,
            "grid_area": null,
            "grid_template_columns": null,
            "flex": null,
            "_model_name": "LayoutModel",
            "justify_items": null,
            "grid_row": null,
            "max_height": null,
            "align_content": null,
            "visibility": null,
            "align_self": null,
            "height": null,
            "min_height": null,
            "padding": null,
            "grid_auto_rows": null,
            "grid_gap": null,
            "max_width": null,
            "order": null,
            "_view_module_version": "1.2.0",
            "grid_template_areas": null,
            "object_position": null,
            "object_fit": null,
            "grid_auto_columns": null,
            "margin": null,
            "display": null,
            "left": null
          }
        },
        "bdb90cebeec84da9a922fcd1cdc92df2": {
          "model_module": "@jupyter-widgets/controls",
          "model_name": "DescriptionStyleModel",
          "state": {
            "_view_name": "StyleView",
            "_model_name": "DescriptionStyleModel",
            "description_width": "",
            "_view_module": "@jupyter-widgets/base",
            "_model_module_version": "1.5.0",
            "_view_count": null,
            "_view_module_version": "1.2.0",
            "_model_module": "@jupyter-widgets/controls"
          }
        },
        "7b3772338ff748f3b4fc729262cd8608": {
          "model_module": "@jupyter-widgets/base",
          "model_name": "LayoutModel",
          "state": {
            "_view_name": "LayoutView",
            "grid_template_rows": null,
            "right": null,
            "justify_content": null,
            "_view_module": "@jupyter-widgets/base",
            "overflow": null,
            "_model_module_version": "1.2.0",
            "_view_count": null,
            "flex_flow": null,
            "width": null,
            "min_width": null,
            "border": null,
            "align_items": null,
            "bottom": null,
            "_model_module": "@jupyter-widgets/base",
            "top": null,
            "grid_column": null,
            "overflow_y": null,
            "overflow_x": null,
            "grid_auto_flow": null,
            "grid_area": null,
            "grid_template_columns": null,
            "flex": null,
            "_model_name": "LayoutModel",
            "justify_items": null,
            "grid_row": null,
            "max_height": null,
            "align_content": null,
            "visibility": null,
            "align_self": null,
            "height": null,
            "min_height": null,
            "padding": null,
            "grid_auto_rows": null,
            "grid_gap": null,
            "max_width": null,
            "order": null,
            "_view_module_version": "1.2.0",
            "grid_template_areas": null,
            "object_position": null,
            "object_fit": null,
            "grid_auto_columns": null,
            "margin": null,
            "display": null,
            "left": null
          }
        },
        "d6d82b143e6f40ae95f45a0c1191d04c": {
          "model_module": "@jupyter-widgets/controls",
          "model_name": "HBoxModel",
          "state": {
            "_view_name": "HBoxView",
            "_dom_classes": [],
            "_model_name": "HBoxModel",
            "_view_module": "@jupyter-widgets/controls",
            "_model_module_version": "1.5.0",
            "_view_count": null,
            "_view_module_version": "1.5.0",
            "box_style": "",
            "layout": "IPY_MODEL_892dd08f68dc4baaad13b77ba25ecd5d",
            "_model_module": "@jupyter-widgets/controls",
            "children": [
              "IPY_MODEL_cf58d34465b141f58533c612acf79fbf",
              "IPY_MODEL_4f1e8ccb9fd4466cbf6dad0158f60a75"
            ]
          }
        },
        "892dd08f68dc4baaad13b77ba25ecd5d": {
          "model_module": "@jupyter-widgets/base",
          "model_name": "LayoutModel",
          "state": {
            "_view_name": "LayoutView",
            "grid_template_rows": null,
            "right": null,
            "justify_content": null,
            "_view_module": "@jupyter-widgets/base",
            "overflow": null,
            "_model_module_version": "1.2.0",
            "_view_count": null,
            "flex_flow": null,
            "width": null,
            "min_width": null,
            "border": null,
            "align_items": null,
            "bottom": null,
            "_model_module": "@jupyter-widgets/base",
            "top": null,
            "grid_column": null,
            "overflow_y": null,
            "overflow_x": null,
            "grid_auto_flow": null,
            "grid_area": null,
            "grid_template_columns": null,
            "flex": null,
            "_model_name": "LayoutModel",
            "justify_items": null,
            "grid_row": null,
            "max_height": null,
            "align_content": null,
            "visibility": null,
            "align_self": null,
            "height": null,
            "min_height": null,
            "padding": null,
            "grid_auto_rows": null,
            "grid_gap": null,
            "max_width": null,
            "order": null,
            "_view_module_version": "1.2.0",
            "grid_template_areas": null,
            "object_position": null,
            "object_fit": null,
            "grid_auto_columns": null,
            "margin": null,
            "display": null,
            "left": null
          }
        },
        "cf58d34465b141f58533c612acf79fbf": {
          "model_module": "@jupyter-widgets/controls",
          "model_name": "FloatProgressModel",
          "state": {
            "_view_name": "ProgressView",
            "style": "IPY_MODEL_37ac4ae0d0bb4a3d80aad766769ee2fb",
            "_dom_classes": [],
            "description": "Downloading: 100%",
            "_model_name": "FloatProgressModel",
            "bar_style": "success",
            "max": 65,
            "_view_module": "@jupyter-widgets/controls",
            "_model_module_version": "1.5.0",
            "value": 65,
            "_view_count": null,
            "_view_module_version": "1.5.0",
            "orientation": "horizontal",
            "min": 0,
            "description_tooltip": null,
            "_model_module": "@jupyter-widgets/controls",
            "layout": "IPY_MODEL_7af460023a454901bd275f1e00ce5692"
          }
        },
        "4f1e8ccb9fd4466cbf6dad0158f60a75": {
          "model_module": "@jupyter-widgets/controls",
          "model_name": "HTMLModel",
          "state": {
            "_view_name": "HTMLView",
            "style": "IPY_MODEL_f107cecad3c4400a84ddb931efb3ab30",
            "_dom_classes": [],
            "description": "",
            "_model_name": "HTMLModel",
            "placeholder": "​",
            "_view_module": "@jupyter-widgets/controls",
            "_model_module_version": "1.5.0",
            "value": " 65.0/65.0 [00:01&lt;00:00, 38.4B/s]",
            "_view_count": null,
            "_view_module_version": "1.5.0",
            "description_tooltip": null,
            "_model_module": "@jupyter-widgets/controls",
            "layout": "IPY_MODEL_de292e8572fc48aa8c095cd7aa7e7d49"
          }
        },
        "37ac4ae0d0bb4a3d80aad766769ee2fb": {
          "model_module": "@jupyter-widgets/controls",
          "model_name": "ProgressStyleModel",
          "state": {
            "_view_name": "StyleView",
            "_model_name": "ProgressStyleModel",
            "description_width": "initial",
            "_view_module": "@jupyter-widgets/base",
            "_model_module_version": "1.5.0",
            "_view_count": null,
            "_view_module_version": "1.2.0",
            "bar_color": null,
            "_model_module": "@jupyter-widgets/controls"
          }
        },
        "7af460023a454901bd275f1e00ce5692": {
          "model_module": "@jupyter-widgets/base",
          "model_name": "LayoutModel",
          "state": {
            "_view_name": "LayoutView",
            "grid_template_rows": null,
            "right": null,
            "justify_content": null,
            "_view_module": "@jupyter-widgets/base",
            "overflow": null,
            "_model_module_version": "1.2.0",
            "_view_count": null,
            "flex_flow": null,
            "width": null,
            "min_width": null,
            "border": null,
            "align_items": null,
            "bottom": null,
            "_model_module": "@jupyter-widgets/base",
            "top": null,
            "grid_column": null,
            "overflow_y": null,
            "overflow_x": null,
            "grid_auto_flow": null,
            "grid_area": null,
            "grid_template_columns": null,
            "flex": null,
            "_model_name": "LayoutModel",
            "justify_items": null,
            "grid_row": null,
            "max_height": null,
            "align_content": null,
            "visibility": null,
            "align_self": null,
            "height": null,
            "min_height": null,
            "padding": null,
            "grid_auto_rows": null,
            "grid_gap": null,
            "max_width": null,
            "order": null,
            "_view_module_version": "1.2.0",
            "grid_template_areas": null,
            "object_position": null,
            "object_fit": null,
            "grid_auto_columns": null,
            "margin": null,
            "display": null,
            "left": null
          }
        },
        "f107cecad3c4400a84ddb931efb3ab30": {
          "model_module": "@jupyter-widgets/controls",
          "model_name": "DescriptionStyleModel",
          "state": {
            "_view_name": "StyleView",
            "_model_name": "DescriptionStyleModel",
            "description_width": "",
            "_view_module": "@jupyter-widgets/base",
            "_model_module_version": "1.5.0",
            "_view_count": null,
            "_view_module_version": "1.2.0",
            "_model_module": "@jupyter-widgets/controls"
          }
        },
        "de292e8572fc48aa8c095cd7aa7e7d49": {
          "model_module": "@jupyter-widgets/base",
          "model_name": "LayoutModel",
          "state": {
            "_view_name": "LayoutView",
            "grid_template_rows": null,
            "right": null,
            "justify_content": null,
            "_view_module": "@jupyter-widgets/base",
            "overflow": null,
            "_model_module_version": "1.2.0",
            "_view_count": null,
            "flex_flow": null,
            "width": null,
            "min_width": null,
            "border": null,
            "align_items": null,
            "bottom": null,
            "_model_module": "@jupyter-widgets/base",
            "top": null,
            "grid_column": null,
            "overflow_y": null,
            "overflow_x": null,
            "grid_auto_flow": null,
            "grid_area": null,
            "grid_template_columns": null,
            "flex": null,
            "_model_name": "LayoutModel",
            "justify_items": null,
            "grid_row": null,
            "max_height": null,
            "align_content": null,
            "visibility": null,
            "align_self": null,
            "height": null,
            "min_height": null,
            "padding": null,
            "grid_auto_rows": null,
            "grid_gap": null,
            "max_width": null,
            "order": null,
            "_view_module_version": "1.2.0",
            "grid_template_areas": null,
            "object_position": null,
            "object_fit": null,
            "grid_auto_columns": null,
            "margin": null,
            "display": null,
            "left": null
          }
        },
        "8bd7d8b651854222b7a1ef9d02b17a7e": {
          "model_module": "@jupyter-widgets/controls",
          "model_name": "HBoxModel",
          "state": {
            "_view_name": "HBoxView",
            "_dom_classes": [],
            "_model_name": "HBoxModel",
            "_view_module": "@jupyter-widgets/controls",
            "_model_module_version": "1.5.0",
            "_view_count": null,
            "_view_module_version": "1.5.0",
            "box_style": "",
            "layout": "IPY_MODEL_255275cb8504430c992e81426d25e021",
            "_model_module": "@jupyter-widgets/controls",
            "children": [
              "IPY_MODEL_2736992d0b1b48fd8a0d6e023246f083",
              "IPY_MODEL_afcb1ad46cd049458e702d1f1de29a00"
            ]
          }
        },
        "255275cb8504430c992e81426d25e021": {
          "model_module": "@jupyter-widgets/base",
          "model_name": "LayoutModel",
          "state": {
            "_view_name": "LayoutView",
            "grid_template_rows": null,
            "right": null,
            "justify_content": null,
            "_view_module": "@jupyter-widgets/base",
            "overflow": null,
            "_model_module_version": "1.2.0",
            "_view_count": null,
            "flex_flow": null,
            "width": null,
            "min_width": null,
            "border": null,
            "align_items": null,
            "bottom": null,
            "_model_module": "@jupyter-widgets/base",
            "top": null,
            "grid_column": null,
            "overflow_y": null,
            "overflow_x": null,
            "grid_auto_flow": null,
            "grid_area": null,
            "grid_template_columns": null,
            "flex": null,
            "_model_name": "LayoutModel",
            "justify_items": null,
            "grid_row": null,
            "max_height": null,
            "align_content": null,
            "visibility": null,
            "align_self": null,
            "height": null,
            "min_height": null,
            "padding": null,
            "grid_auto_rows": null,
            "grid_gap": null,
            "max_width": null,
            "order": null,
            "_view_module_version": "1.2.0",
            "grid_template_areas": null,
            "object_position": null,
            "object_fit": null,
            "grid_auto_columns": null,
            "margin": null,
            "display": null,
            "left": null
          }
        },
        "2736992d0b1b48fd8a0d6e023246f083": {
          "model_module": "@jupyter-widgets/controls",
          "model_name": "FloatProgressModel",
          "state": {
            "_view_name": "ProgressView",
            "style": "IPY_MODEL_d1094bb3eced410e922ece47cff97bd7",
            "_dom_classes": [],
            "description": "Downloading: 100%",
            "_model_name": "FloatProgressModel",
            "bar_style": "success",
            "max": 87,
            "_view_module": "@jupyter-widgets/controls",
            "_model_module_version": "1.5.0",
            "value": 87,
            "_view_count": null,
            "_view_module_version": "1.5.0",
            "orientation": "horizontal",
            "min": 0,
            "description_tooltip": null,
            "_model_module": "@jupyter-widgets/controls",
            "layout": "IPY_MODEL_5ebd30f22d6345e09e85122b186dcdf1"
          }
        },
        "afcb1ad46cd049458e702d1f1de29a00": {
          "model_module": "@jupyter-widgets/controls",
          "model_name": "HTMLModel",
          "state": {
            "_view_name": "HTMLView",
            "style": "IPY_MODEL_32df7fe3dbd645e6bc1161f29791a0fc",
            "_dom_classes": [],
            "description": "",
            "_model_name": "HTMLModel",
            "placeholder": "​",
            "_view_module": "@jupyter-widgets/controls",
            "_model_module_version": "1.5.0",
            "value": " 87.0/87.0 [00:01&lt;00:00, 79.4B/s]",
            "_view_count": null,
            "_view_module_version": "1.5.0",
            "description_tooltip": null,
            "_model_module": "@jupyter-widgets/controls",
            "layout": "IPY_MODEL_9307eb51f51a4db2863a0aba71422c9a"
          }
        },
        "d1094bb3eced410e922ece47cff97bd7": {
          "model_module": "@jupyter-widgets/controls",
          "model_name": "ProgressStyleModel",
          "state": {
            "_view_name": "StyleView",
            "_model_name": "ProgressStyleModel",
            "description_width": "initial",
            "_view_module": "@jupyter-widgets/base",
            "_model_module_version": "1.5.0",
            "_view_count": null,
            "_view_module_version": "1.2.0",
            "bar_color": null,
            "_model_module": "@jupyter-widgets/controls"
          }
        },
        "5ebd30f22d6345e09e85122b186dcdf1": {
          "model_module": "@jupyter-widgets/base",
          "model_name": "LayoutModel",
          "state": {
            "_view_name": "LayoutView",
            "grid_template_rows": null,
            "right": null,
            "justify_content": null,
            "_view_module": "@jupyter-widgets/base",
            "overflow": null,
            "_model_module_version": "1.2.0",
            "_view_count": null,
            "flex_flow": null,
            "width": null,
            "min_width": null,
            "border": null,
            "align_items": null,
            "bottom": null,
            "_model_module": "@jupyter-widgets/base",
            "top": null,
            "grid_column": null,
            "overflow_y": null,
            "overflow_x": null,
            "grid_auto_flow": null,
            "grid_area": null,
            "grid_template_columns": null,
            "flex": null,
            "_model_name": "LayoutModel",
            "justify_items": null,
            "grid_row": null,
            "max_height": null,
            "align_content": null,
            "visibility": null,
            "align_self": null,
            "height": null,
            "min_height": null,
            "padding": null,
            "grid_auto_rows": null,
            "grid_gap": null,
            "max_width": null,
            "order": null,
            "_view_module_version": "1.2.0",
            "grid_template_areas": null,
            "object_position": null,
            "object_fit": null,
            "grid_auto_columns": null,
            "margin": null,
            "display": null,
            "left": null
          }
        },
        "32df7fe3dbd645e6bc1161f29791a0fc": {
          "model_module": "@jupyter-widgets/controls",
          "model_name": "DescriptionStyleModel",
          "state": {
            "_view_name": "StyleView",
            "_model_name": "DescriptionStyleModel",
            "description_width": "",
            "_view_module": "@jupyter-widgets/base",
            "_model_module_version": "1.5.0",
            "_view_count": null,
            "_view_module_version": "1.2.0",
            "_model_module": "@jupyter-widgets/controls"
          }
        },
        "9307eb51f51a4db2863a0aba71422c9a": {
          "model_module": "@jupyter-widgets/base",
          "model_name": "LayoutModel",
          "state": {
            "_view_name": "LayoutView",
            "grid_template_rows": null,
            "right": null,
            "justify_content": null,
            "_view_module": "@jupyter-widgets/base",
            "overflow": null,
            "_model_module_version": "1.2.0",
            "_view_count": null,
            "flex_flow": null,
            "width": null,
            "min_width": null,
            "border": null,
            "align_items": null,
            "bottom": null,
            "_model_module": "@jupyter-widgets/base",
            "top": null,
            "grid_column": null,
            "overflow_y": null,
            "overflow_x": null,
            "grid_auto_flow": null,
            "grid_area": null,
            "grid_template_columns": null,
            "flex": null,
            "_model_name": "LayoutModel",
            "justify_items": null,
            "grid_row": null,
            "max_height": null,
            "align_content": null,
            "visibility": null,
            "align_self": null,
            "height": null,
            "min_height": null,
            "padding": null,
            "grid_auto_rows": null,
            "grid_gap": null,
            "max_width": null,
            "order": null,
            "_view_module_version": "1.2.0",
            "grid_template_areas": null,
            "object_position": null,
            "object_fit": null,
            "grid_auto_columns": null,
            "margin": null,
            "display": null,
            "left": null
          }
        },
        "f3fc1fa5a71740d6923022923e60c496": {
          "model_module": "@jupyter-widgets/controls",
          "model_name": "HBoxModel",
          "state": {
            "_view_name": "HBoxView",
            "_dom_classes": [],
            "_model_name": "HBoxModel",
            "_view_module": "@jupyter-widgets/controls",
            "_model_module_version": "1.5.0",
            "_view_count": null,
            "_view_module_version": "1.5.0",
            "box_style": "",
            "layout": "IPY_MODEL_c6d0fde5c9e648ab89643ee7434b86b8",
            "_model_module": "@jupyter-widgets/controls",
            "children": [
              "IPY_MODEL_b1a7310873234e10a9fb07c2cad75d4a",
              "IPY_MODEL_f1592d53772245a8a56a3042de73e88a"
            ]
          }
        },
        "c6d0fde5c9e648ab89643ee7434b86b8": {
          "model_module": "@jupyter-widgets/base",
          "model_name": "LayoutModel",
          "state": {
            "_view_name": "LayoutView",
            "grid_template_rows": null,
            "right": null,
            "justify_content": null,
            "_view_module": "@jupyter-widgets/base",
            "overflow": null,
            "_model_module_version": "1.2.0",
            "_view_count": null,
            "flex_flow": null,
            "width": null,
            "min_width": null,
            "border": null,
            "align_items": null,
            "bottom": null,
            "_model_module": "@jupyter-widgets/base",
            "top": null,
            "grid_column": null,
            "overflow_y": null,
            "overflow_x": null,
            "grid_auto_flow": null,
            "grid_area": null,
            "grid_template_columns": null,
            "flex": null,
            "_model_name": "LayoutModel",
            "justify_items": null,
            "grid_row": null,
            "max_height": null,
            "align_content": null,
            "visibility": null,
            "align_self": null,
            "height": null,
            "min_height": null,
            "padding": null,
            "grid_auto_rows": null,
            "grid_gap": null,
            "max_width": null,
            "order": null,
            "_view_module_version": "1.2.0",
            "grid_template_areas": null,
            "object_position": null,
            "object_fit": null,
            "grid_auto_columns": null,
            "margin": null,
            "display": null,
            "left": null
          }
        },
        "b1a7310873234e10a9fb07c2cad75d4a": {
          "model_module": "@jupyter-widgets/controls",
          "model_name": "FloatProgressModel",
          "state": {
            "_view_name": "ProgressView",
            "style": "IPY_MODEL_9c603defc0704171a946bdf67905de8a",
            "_dom_classes": [],
            "description": "Downloading: 100%",
            "_model_name": "FloatProgressModel",
            "bar_style": "success",
            "max": 1099,
            "_view_module": "@jupyter-widgets/controls",
            "_model_module_version": "1.5.0",
            "value": 1099,
            "_view_count": null,
            "_view_module_version": "1.5.0",
            "orientation": "horizontal",
            "min": 0,
            "description_tooltip": null,
            "_model_module": "@jupyter-widgets/controls",
            "layout": "IPY_MODEL_06a1f3a451004a9ab9104a31cfcc5faf"
          }
        },
        "f1592d53772245a8a56a3042de73e88a": {
          "model_module": "@jupyter-widgets/controls",
          "model_name": "HTMLModel",
          "state": {
            "_view_name": "HTMLView",
            "style": "IPY_MODEL_b847eb1edce94858ad647e0b3430d40e",
            "_dom_classes": [],
            "description": "",
            "_model_name": "HTMLModel",
            "placeholder": "​",
            "_view_module": "@jupyter-widgets/controls",
            "_model_module_version": "1.5.0",
            "value": " 1.10k/1.10k [00:59&lt;00:00, 18.6B/s]",
            "_view_count": null,
            "_view_module_version": "1.5.0",
            "description_tooltip": null,
            "_model_module": "@jupyter-widgets/controls",
            "layout": "IPY_MODEL_f6fd64eceb154e569696cf734c95f1d7"
          }
        },
        "9c603defc0704171a946bdf67905de8a": {
          "model_module": "@jupyter-widgets/controls",
          "model_name": "ProgressStyleModel",
          "state": {
            "_view_name": "StyleView",
            "_model_name": "ProgressStyleModel",
            "description_width": "initial",
            "_view_module": "@jupyter-widgets/base",
            "_model_module_version": "1.5.0",
            "_view_count": null,
            "_view_module_version": "1.2.0",
            "bar_color": null,
            "_model_module": "@jupyter-widgets/controls"
          }
        },
        "06a1f3a451004a9ab9104a31cfcc5faf": {
          "model_module": "@jupyter-widgets/base",
          "model_name": "LayoutModel",
          "state": {
            "_view_name": "LayoutView",
            "grid_template_rows": null,
            "right": null,
            "justify_content": null,
            "_view_module": "@jupyter-widgets/base",
            "overflow": null,
            "_model_module_version": "1.2.0",
            "_view_count": null,
            "flex_flow": null,
            "width": null,
            "min_width": null,
            "border": null,
            "align_items": null,
            "bottom": null,
            "_model_module": "@jupyter-widgets/base",
            "top": null,
            "grid_column": null,
            "overflow_y": null,
            "overflow_x": null,
            "grid_auto_flow": null,
            "grid_area": null,
            "grid_template_columns": null,
            "flex": null,
            "_model_name": "LayoutModel",
            "justify_items": null,
            "grid_row": null,
            "max_height": null,
            "align_content": null,
            "visibility": null,
            "align_self": null,
            "height": null,
            "min_height": null,
            "padding": null,
            "grid_auto_rows": null,
            "grid_gap": null,
            "max_width": null,
            "order": null,
            "_view_module_version": "1.2.0",
            "grid_template_areas": null,
            "object_position": null,
            "object_fit": null,
            "grid_auto_columns": null,
            "margin": null,
            "display": null,
            "left": null
          }
        },
        "b847eb1edce94858ad647e0b3430d40e": {
          "model_module": "@jupyter-widgets/controls",
          "model_name": "DescriptionStyleModel",
          "state": {
            "_view_name": "StyleView",
            "_model_name": "DescriptionStyleModel",
            "description_width": "",
            "_view_module": "@jupyter-widgets/base",
            "_model_module_version": "1.5.0",
            "_view_count": null,
            "_view_module_version": "1.2.0",
            "_model_module": "@jupyter-widgets/controls"
          }
        },
        "f6fd64eceb154e569696cf734c95f1d7": {
          "model_module": "@jupyter-widgets/base",
          "model_name": "LayoutModel",
          "state": {
            "_view_name": "LayoutView",
            "grid_template_rows": null,
            "right": null,
            "justify_content": null,
            "_view_module": "@jupyter-widgets/base",
            "overflow": null,
            "_model_module_version": "1.2.0",
            "_view_count": null,
            "flex_flow": null,
            "width": null,
            "min_width": null,
            "border": null,
            "align_items": null,
            "bottom": null,
            "_model_module": "@jupyter-widgets/base",
            "top": null,
            "grid_column": null,
            "overflow_y": null,
            "overflow_x": null,
            "grid_auto_flow": null,
            "grid_area": null,
            "grid_template_columns": null,
            "flex": null,
            "_model_name": "LayoutModel",
            "justify_items": null,
            "grid_row": null,
            "max_height": null,
            "align_content": null,
            "visibility": null,
            "align_self": null,
            "height": null,
            "min_height": null,
            "padding": null,
            "grid_auto_rows": null,
            "grid_gap": null,
            "max_width": null,
            "order": null,
            "_view_module_version": "1.2.0",
            "grid_template_areas": null,
            "object_position": null,
            "object_fit": null,
            "grid_auto_columns": null,
            "margin": null,
            "display": null,
            "left": null
          }
        },
        "ae07911a300d48e7a4d2ba9b50d1bcde": {
          "model_module": "@jupyter-widgets/controls",
          "model_name": "HBoxModel",
          "state": {
            "_view_name": "HBoxView",
            "_dom_classes": [],
            "_model_name": "HBoxModel",
            "_view_module": "@jupyter-widgets/controls",
            "_model_module_version": "1.5.0",
            "_view_count": null,
            "_view_module_version": "1.5.0",
            "box_style": "",
            "layout": "IPY_MODEL_4e7400aa14cb4fc5906673af3685c1b7",
            "_model_module": "@jupyter-widgets/controls",
            "children": [
              "IPY_MODEL_4c7c06152ac24f889f0188bc6f154071",
              "IPY_MODEL_4be143c7dc6c43469c287f07120f47dc"
            ]
          }
        },
        "4e7400aa14cb4fc5906673af3685c1b7": {
          "model_module": "@jupyter-widgets/base",
          "model_name": "LayoutModel",
          "state": {
            "_view_name": "LayoutView",
            "grid_template_rows": null,
            "right": null,
            "justify_content": null,
            "_view_module": "@jupyter-widgets/base",
            "overflow": null,
            "_model_module_version": "1.2.0",
            "_view_count": null,
            "flex_flow": null,
            "width": null,
            "min_width": null,
            "border": null,
            "align_items": null,
            "bottom": null,
            "_model_module": "@jupyter-widgets/base",
            "top": null,
            "grid_column": null,
            "overflow_y": null,
            "overflow_x": null,
            "grid_auto_flow": null,
            "grid_area": null,
            "grid_template_columns": null,
            "flex": null,
            "_model_name": "LayoutModel",
            "justify_items": null,
            "grid_row": null,
            "max_height": null,
            "align_content": null,
            "visibility": null,
            "align_self": null,
            "height": null,
            "min_height": null,
            "padding": null,
            "grid_auto_rows": null,
            "grid_gap": null,
            "max_width": null,
            "order": null,
            "_view_module_version": "1.2.0",
            "grid_template_areas": null,
            "object_position": null,
            "object_fit": null,
            "grid_auto_columns": null,
            "margin": null,
            "display": null,
            "left": null
          }
        },
        "4c7c06152ac24f889f0188bc6f154071": {
          "model_module": "@jupyter-widgets/controls",
          "model_name": "FloatProgressModel",
          "state": {
            "_view_name": "ProgressView",
            "style": "IPY_MODEL_9262eed172994c08bec4f960f880001e",
            "_dom_classes": [],
            "description": "Downloading: 100%",
            "_model_name": "FloatProgressModel",
            "bar_style": "success",
            "max": 2275329241,
            "_view_module": "@jupyter-widgets/controls",
            "_model_module_version": "1.5.0",
            "value": 2275329241,
            "_view_count": null,
            "_view_module_version": "1.5.0",
            "orientation": "horizontal",
            "min": 0,
            "description_tooltip": null,
            "_model_module": "@jupyter-widgets/controls",
            "layout": "IPY_MODEL_653da89e528e4839906c1ce7b40d049b"
          }
        },
        "4be143c7dc6c43469c287f07120f47dc": {
          "model_module": "@jupyter-widgets/controls",
          "model_name": "HTMLModel",
          "state": {
            "_view_name": "HTMLView",
            "style": "IPY_MODEL_eb18b22ba1e5479ea4f355077dac3d59",
            "_dom_classes": [],
            "description": "",
            "_model_name": "HTMLModel",
            "placeholder": "​",
            "_view_module": "@jupyter-widgets/controls",
            "_model_module_version": "1.5.0",
            "value": " 2.28G/2.28G [00:58&lt;00:00, 39.2MB/s]",
            "_view_count": null,
            "_view_module_version": "1.5.0",
            "description_tooltip": null,
            "_model_module": "@jupyter-widgets/controls",
            "layout": "IPY_MODEL_7188bae80a7141639797317d846f6c12"
          }
        },
        "9262eed172994c08bec4f960f880001e": {
          "model_module": "@jupyter-widgets/controls",
          "model_name": "ProgressStyleModel",
          "state": {
            "_view_name": "StyleView",
            "_model_name": "ProgressStyleModel",
            "description_width": "initial",
            "_view_module": "@jupyter-widgets/base",
            "_model_module_version": "1.5.0",
            "_view_count": null,
            "_view_module_version": "1.2.0",
            "bar_color": null,
            "_model_module": "@jupyter-widgets/controls"
          }
        },
        "653da89e528e4839906c1ce7b40d049b": {
          "model_module": "@jupyter-widgets/base",
          "model_name": "LayoutModel",
          "state": {
            "_view_name": "LayoutView",
            "grid_template_rows": null,
            "right": null,
            "justify_content": null,
            "_view_module": "@jupyter-widgets/base",
            "overflow": null,
            "_model_module_version": "1.2.0",
            "_view_count": null,
            "flex_flow": null,
            "width": null,
            "min_width": null,
            "border": null,
            "align_items": null,
            "bottom": null,
            "_model_module": "@jupyter-widgets/base",
            "top": null,
            "grid_column": null,
            "overflow_y": null,
            "overflow_x": null,
            "grid_auto_flow": null,
            "grid_area": null,
            "grid_template_columns": null,
            "flex": null,
            "_model_name": "LayoutModel",
            "justify_items": null,
            "grid_row": null,
            "max_height": null,
            "align_content": null,
            "visibility": null,
            "align_self": null,
            "height": null,
            "min_height": null,
            "padding": null,
            "grid_auto_rows": null,
            "grid_gap": null,
            "max_width": null,
            "order": null,
            "_view_module_version": "1.2.0",
            "grid_template_areas": null,
            "object_position": null,
            "object_fit": null,
            "grid_auto_columns": null,
            "margin": null,
            "display": null,
            "left": null
          }
        },
        "eb18b22ba1e5479ea4f355077dac3d59": {
          "model_module": "@jupyter-widgets/controls",
          "model_name": "DescriptionStyleModel",
          "state": {
            "_view_name": "StyleView",
            "_model_name": "DescriptionStyleModel",
            "description_width": "",
            "_view_module": "@jupyter-widgets/base",
            "_model_module_version": "1.5.0",
            "_view_count": null,
            "_view_module_version": "1.2.0",
            "_model_module": "@jupyter-widgets/controls"
          }
        },
        "7188bae80a7141639797317d846f6c12": {
          "model_module": "@jupyter-widgets/base",
          "model_name": "LayoutModel",
          "state": {
            "_view_name": "LayoutView",
            "grid_template_rows": null,
            "right": null,
            "justify_content": null,
            "_view_module": "@jupyter-widgets/base",
            "overflow": null,
            "_model_module_version": "1.2.0",
            "_view_count": null,
            "flex_flow": null,
            "width": null,
            "min_width": null,
            "border": null,
            "align_items": null,
            "bottom": null,
            "_model_module": "@jupyter-widgets/base",
            "top": null,
            "grid_column": null,
            "overflow_y": null,
            "overflow_x": null,
            "grid_auto_flow": null,
            "grid_area": null,
            "grid_template_columns": null,
            "flex": null,
            "_model_name": "LayoutModel",
            "justify_items": null,
            "grid_row": null,
            "max_height": null,
            "align_content": null,
            "visibility": null,
            "align_self": null,
            "height": null,
            "min_height": null,
            "padding": null,
            "grid_auto_rows": null,
            "grid_gap": null,
            "max_width": null,
            "order": null,
            "_view_module_version": "1.2.0",
            "grid_template_areas": null,
            "object_position": null,
            "object_fit": null,
            "grid_auto_columns": null,
            "margin": null,
            "display": null,
            "left": null
          }
        }
      }
    }
  },
  "cells": [
    {
      "cell_type": "markdown",
      "metadata": {
        "id": "view-in-github",
        "colab_type": "text"
      },
      "source": [
        "<a href=\"https://colab.research.google.com/github/DeathTruck/playground/blob/master/pegasus_huggingface_summaries.ipynb\" target=\"_parent\"><img src=\"https://colab.research.google.com/assets/colab-badge.svg\" alt=\"Open In Colab\"/></a>"
      ]
    },
    {
      "cell_type": "code",
      "metadata": {
        "id": "1NqfAXzbgHvx",
        "outputId": "61fb1141-b746-4cbc-c7b0-79c2bbe90f88",
        "colab": {
          "base_uri": "https://localhost:8080/",
          "height": 615
        }
      },
      "source": [
        "!pip install transformers"
      ],
      "execution_count": 1,
      "outputs": [
        {
          "output_type": "stream",
          "text": [
            "Collecting transformers\n",
            "\u001b[?25l  Downloading https://files.pythonhosted.org/packages/d8/f4/9f93f06dd2c57c7cd7aa515ffbf9fcfd8a084b92285732289f4a5696dd91/transformers-3.2.0-py3-none-any.whl (1.0MB)\n",
            "\u001b[K     |████████████████████████████████| 1.0MB 4.5MB/s \n",
            "\u001b[?25hCollecting sentencepiece!=0.1.92\n",
            "\u001b[?25l  Downloading https://files.pythonhosted.org/packages/d4/a4/d0a884c4300004a78cca907a6ff9a5e9fe4f090f5d95ab341c53d28cbc58/sentencepiece-0.1.91-cp36-cp36m-manylinux1_x86_64.whl (1.1MB)\n",
            "\u001b[K     |████████████████████████████████| 1.1MB 53.3MB/s \n",
            "\u001b[?25hRequirement already satisfied: dataclasses; python_version < \"3.7\" in /usr/local/lib/python3.6/dist-packages (from transformers) (0.7)\n",
            "Requirement already satisfied: regex!=2019.12.17 in /usr/local/lib/python3.6/dist-packages (from transformers) (2019.12.20)\n",
            "Requirement already satisfied: packaging in /usr/local/lib/python3.6/dist-packages (from transformers) (20.4)\n",
            "Requirement already satisfied: filelock in /usr/local/lib/python3.6/dist-packages (from transformers) (3.0.12)\n",
            "Collecting tokenizers==0.8.1.rc2\n",
            "\u001b[?25l  Downloading https://files.pythonhosted.org/packages/80/83/8b9fccb9e48eeb575ee19179e2bdde0ee9a1904f97de5f02d19016b8804f/tokenizers-0.8.1rc2-cp36-cp36m-manylinux1_x86_64.whl (3.0MB)\n",
            "\u001b[K     |████████████████████████████████| 3.0MB 59.4MB/s \n",
            "\u001b[?25hRequirement already satisfied: requests in /usr/local/lib/python3.6/dist-packages (from transformers) (2.23.0)\n",
            "Requirement already satisfied: numpy in /usr/local/lib/python3.6/dist-packages (from transformers) (1.18.5)\n",
            "Requirement already satisfied: tqdm>=4.27 in /usr/local/lib/python3.6/dist-packages (from transformers) (4.41.1)\n",
            "Collecting sacremoses\n",
            "\u001b[?25l  Downloading https://files.pythonhosted.org/packages/7d/34/09d19aff26edcc8eb2a01bed8e98f13a1537005d31e95233fd48216eed10/sacremoses-0.0.43.tar.gz (883kB)\n",
            "\u001b[K     |████████████████████████████████| 890kB 53.2MB/s \n",
            "\u001b[?25hRequirement already satisfied: pyparsing>=2.0.2 in /usr/local/lib/python3.6/dist-packages (from packaging->transformers) (2.4.7)\n",
            "Requirement already satisfied: six in /usr/local/lib/python3.6/dist-packages (from packaging->transformers) (1.15.0)\n",
            "Requirement already satisfied: urllib3!=1.25.0,!=1.25.1,<1.26,>=1.21.1 in /usr/local/lib/python3.6/dist-packages (from requests->transformers) (1.24.3)\n",
            "Requirement already satisfied: certifi>=2017.4.17 in /usr/local/lib/python3.6/dist-packages (from requests->transformers) (2020.6.20)\n",
            "Requirement already satisfied: chardet<4,>=3.0.2 in /usr/local/lib/python3.6/dist-packages (from requests->transformers) (3.0.4)\n",
            "Requirement already satisfied: idna<3,>=2.5 in /usr/local/lib/python3.6/dist-packages (from requests->transformers) (2.10)\n",
            "Requirement already satisfied: click in /usr/local/lib/python3.6/dist-packages (from sacremoses->transformers) (7.1.2)\n",
            "Requirement already satisfied: joblib in /usr/local/lib/python3.6/dist-packages (from sacremoses->transformers) (0.16.0)\n",
            "Building wheels for collected packages: sacremoses\n",
            "  Building wheel for sacremoses (setup.py) ... \u001b[?25l\u001b[?25hdone\n",
            "  Created wheel for sacremoses: filename=sacremoses-0.0.43-cp36-none-any.whl size=893257 sha256=8a8f3d4a92f2050b95eded74a261fd953d24eb22461da26b0fa1e4eaaa3fe988\n",
            "  Stored in directory: /root/.cache/pip/wheels/29/3c/fd/7ce5c3f0666dab31a50123635e6fb5e19ceb42ce38d4e58f45\n",
            "Successfully built sacremoses\n",
            "Installing collected packages: sentencepiece, tokenizers, sacremoses, transformers\n",
            "Successfully installed sacremoses-0.0.43 sentencepiece-0.1.91 tokenizers-0.8.1rc2 transformers-3.2.0\n"
          ],
          "name": "stdout"
        }
      ]
    },
    {
      "cell_type": "code",
      "metadata": {
        "id": "BvXHl2B2gKI-",
        "outputId": "e8847509-f02e-4d7c-847e-067f2cdd28ac",
        "colab": {
          "base_uri": "https://localhost:8080/",
          "height": 262,
          "referenced_widgets": [
            "d45388e1360340f7aced274063af285a",
            "dc97d76cf9124cc7b99ce9d8b9694c11",
            "66a822c1b5c24f66a032f083ae681aa2",
            "22a32cc119014449997850ece08f4945",
            "2ae3b3c24a3140a8b32f0af786138fef",
            "3abfc59da1d6427489dc707e8c5f917e",
            "bdb90cebeec84da9a922fcd1cdc92df2",
            "7b3772338ff748f3b4fc729262cd8608",
            "d6d82b143e6f40ae95f45a0c1191d04c",
            "892dd08f68dc4baaad13b77ba25ecd5d",
            "cf58d34465b141f58533c612acf79fbf",
            "4f1e8ccb9fd4466cbf6dad0158f60a75",
            "37ac4ae0d0bb4a3d80aad766769ee2fb",
            "7af460023a454901bd275f1e00ce5692",
            "f107cecad3c4400a84ddb931efb3ab30",
            "de292e8572fc48aa8c095cd7aa7e7d49",
            "8bd7d8b651854222b7a1ef9d02b17a7e",
            "255275cb8504430c992e81426d25e021",
            "2736992d0b1b48fd8a0d6e023246f083",
            "afcb1ad46cd049458e702d1f1de29a00",
            "d1094bb3eced410e922ece47cff97bd7",
            "5ebd30f22d6345e09e85122b186dcdf1",
            "32df7fe3dbd645e6bc1161f29791a0fc",
            "9307eb51f51a4db2863a0aba71422c9a",
            "f3fc1fa5a71740d6923022923e60c496",
            "c6d0fde5c9e648ab89643ee7434b86b8",
            "b1a7310873234e10a9fb07c2cad75d4a",
            "f1592d53772245a8a56a3042de73e88a",
            "9c603defc0704171a946bdf67905de8a",
            "06a1f3a451004a9ab9104a31cfcc5faf",
            "b847eb1edce94858ad647e0b3430d40e",
            "f6fd64eceb154e569696cf734c95f1d7",
            "ae07911a300d48e7a4d2ba9b50d1bcde",
            "4e7400aa14cb4fc5906673af3685c1b7",
            "4c7c06152ac24f889f0188bc6f154071",
            "4be143c7dc6c43469c287f07120f47dc",
            "9262eed172994c08bec4f960f880001e",
            "653da89e528e4839906c1ce7b40d049b",
            "eb18b22ba1e5479ea4f355077dac3d59",
            "7188bae80a7141639797317d846f6c12"
          ]
        }
      },
      "source": [
        "from transformers import PegasusForConditionalGeneration, PegasusTokenizer\n",
        "import torch\n",
        "\n",
        "model_name = 'google/pegasus-xsum'\n",
        "torch_device = 'cuda' if torch.cuda.is_available() else 'cpu'\n",
        "tokenizer = PegasusTokenizer.from_pretrained(model_name)\n",
        "model = PegasusForConditionalGeneration.from_pretrained(model_name).to(torch_device)\n",
        "def summarize(in_text):\n",
        "    batch = tokenizer.prepare_seq2seq_batch(in_text, truncation=True, padding='longest').to(torch_device)\n",
        "    translated = model.generate(**batch)\n",
        "    tgt_text = tokenizer.batch_decode(translated, skip_special_tokens=True)\n",
        "    return tgt_text"
      ],
      "execution_count": 2,
      "outputs": [
        {
          "output_type": "display_data",
          "data": {
            "application/vnd.jupyter.widget-view+json": {
              "model_id": "d45388e1360340f7aced274063af285a",
              "version_minor": 0,
              "version_major": 2
            },
            "text/plain": [
              "HBox(children=(FloatProgress(value=0.0, description='Downloading', max=1912529.0, style=ProgressStyle(descript…"
            ]
          },
          "metadata": {
            "tags": []
          }
        },
        {
          "output_type": "stream",
          "text": [
            "\n"
          ],
          "name": "stdout"
        },
        {
          "output_type": "display_data",
          "data": {
            "application/vnd.jupyter.widget-view+json": {
              "model_id": "d6d82b143e6f40ae95f45a0c1191d04c",
              "version_minor": 0,
              "version_major": 2
            },
            "text/plain": [
              "HBox(children=(FloatProgress(value=0.0, description='Downloading', max=65.0, style=ProgressStyle(description_w…"
            ]
          },
          "metadata": {
            "tags": []
          }
        },
        {
          "output_type": "stream",
          "text": [
            "\n"
          ],
          "name": "stdout"
        },
        {
          "output_type": "display_data",
          "data": {
            "application/vnd.jupyter.widget-view+json": {
              "model_id": "8bd7d8b651854222b7a1ef9d02b17a7e",
              "version_minor": 0,
              "version_major": 2
            },
            "text/plain": [
              "HBox(children=(FloatProgress(value=0.0, description='Downloading', max=87.0, style=ProgressStyle(description_w…"
            ]
          },
          "metadata": {
            "tags": []
          }
        },
        {
          "output_type": "stream",
          "text": [
            "\n"
          ],
          "name": "stdout"
        },
        {
          "output_type": "display_data",
          "data": {
            "application/vnd.jupyter.widget-view+json": {
              "model_id": "f3fc1fa5a71740d6923022923e60c496",
              "version_minor": 0,
              "version_major": 2
            },
            "text/plain": [
              "HBox(children=(FloatProgress(value=0.0, description='Downloading', max=1099.0, style=ProgressStyle(description…"
            ]
          },
          "metadata": {
            "tags": []
          }
        },
        {
          "output_type": "stream",
          "text": [
            "\n"
          ],
          "name": "stdout"
        },
        {
          "output_type": "display_data",
          "data": {
            "application/vnd.jupyter.widget-view+json": {
              "model_id": "ae07911a300d48e7a4d2ba9b50d1bcde",
              "version_minor": 0,
              "version_major": 2
            },
            "text/plain": [
              "HBox(children=(FloatProgress(value=0.0, description='Downloading', max=2275329241.0, style=ProgressStyle(descr…"
            ]
          },
          "metadata": {
            "tags": []
          }
        },
        {
          "output_type": "stream",
          "text": [
            "\n"
          ],
          "name": "stdout"
        }
      ]
    },
    {
      "cell_type": "code",
      "metadata": {
        "id": "PLaEqHOCgY0j"
      },
      "source": [
        "f = open('ballot_temp.txt', 'r').read()"
      ],
      "execution_count": 3,
      "outputs": []
    },
    {
      "cell_type": "code",
      "metadata": {
        "id": "Isi5yx-LhM6f",
        "outputId": "e7ce45c2-7ec8-4494-9fed-68edf6082d8b",
        "colab": {
          "base_uri": "https://localhost:8080/",
          "height": 154
        }
      },
      "source": [
        "f"
      ],
      "execution_count": 4,
      "outputs": [
        {
          "output_type": "execute_result",
          "data": {
            "application/vnd.google.colaboratory.intrinsic+json": {
              "type": "string"
            },
            "text/plain": [
              "' SECTION 1. Title\\n This measure shall be la\\'iown as\"The California Scliools and Local Communities Funding Act of 2020.\"\\n SEC. 2. Findings\\n (a) California is the fiftl\"i largest economy in the world, but if we don\\'t invest in our future, we\\'ll fall beliind. To grow orir economy and provide a better qriality of life now, and for future generations of Californians, we need to do a better job of investing in orir schools, comrmuiity colleges, and local communities, and do more to encourage small businesses and stait-ups.\\n (b)\\n (c)\\n (d)\\n (e)\\n (f)\\n Our competitiveness begins witli making cliildren and their education a priority. Decades of cuts and underfunding liave undermined California schools. A recent national study ranked the performance of California schools in the bottom half of all states. The top ranked states spend tl\\'iousands of dollars more per student than California.\\n California\\'s funding sl\\'iortfall lias direct consequences for our kids: we\\'re dead last in tlie nation in teaclier-to-student ratios, last in guidance counselor to student ratios, and last in librarian-to-student ratios.\\n Tlie qriality of life in orir local comnaiunities is also critical to orir economic future. It depends on streets that are safe and clean, emergency services we can corint on, parks and recreation programs tliat keep orir youtli off the streets, and roads tliat are well\\n maintained. Our cities, corinties and local agencies are on the front line facing the consequences of tlie lack of affordable housing and increasing homelessness as well as worsening risks from wildfires and otlier disasters.\\n Property taxes on commercial and industrial properties are a principal sorirce of funding for our schools and local communities. While virtually every other state assesses commercial and industrial property based on its fair market value, California allows commercial and industrial propeity taxes to go many years, even decades, withorit reassessment. This unusual system is prone to abusive tax avoidance schemes, diveits funds away from schools and local communities, contributes to the sliortage of affordable housing, distoits business competition, and disadvantages business stait-ups.\\n California\\'s rinder-assessn\\'ient of commercial and industrial properties is a growing problem. Large investors and corporations, many of wliom are from other states and countries, are rising a variety of scliemes to get arorind the law and buy and sell propeities witliorit being reassessed, costing our scliools and local communities billions of dollars.\\n (g) A recent study by the University of Soutliern California has found tliat under-assessed commercial and industrial propeity allows owners to avoid over $11 billion in local\\n property taxes each year that shorild be going to suppoit our schools and local communities.\\n  (h) California\\'s rinusual commercial and industrial property tax system contributes to California\\'s affordable housing crisis. Studies by the Legislative Analyst Office and the University of California liave demonstrated that California\\'s property tax system incentivizes owners to hold idle vacant and under-utilized commercial and industrial property. A reformed system, that assesses all properties based on tlieir fair market\\n  value, would create a powerful new incentive to build new horising.\\n  (i) Every commercial and industrial property owner benefits from local schools and services like priblic safety and infrastrricture. It is unfair and anti-competitive that tlie propeity tax system forces some businesses to pay liigher propeity taxes to suppoit orir scliools and local communities wliile their competitors pay much lower propeity taxes because their properties are assessed far below tl\\'ieir fair market value.\\n  (j) California\\'s ruuisual propeity tax system not only distoits competition, it discorirages business investments. Under tlie current system, businesses that invest in improving tlieir propeities trigger reassessment and liiglier propeity taxes. But businesses tliat don\\'t\\n  invest in improving their properties contimie to enjoy tlie low cost of under assessment.\\n  (k) A study done at the University of California demonstrates that reassessing commercial propeity will have a net positive benefit on jobs and the California economy.\\n  (l) If we reformed California\\'s under-assessment problem on business properties, California would still rank among tlie lowest states for business propeity taxes in tlie nation becarise\\n  of the Califomia Constitution\\'s provisions related to tl\\'ie 1% limitation 011 propeity tax rates.\\n  (m)Thriving small businesses and start-ups are essential to California\\'s economy now and for our future. Tlie property tax on equipn\\'ient and fixtures discourages new start-ups, small businesses and larger businesses from making new productive investments. By reqriiring under-assessed large propeities to be assessed at fair market value, small businesses can be fully exempted from tlie propeity tax on equipment and fixtures and tlie tax can be substantially reduced for other businesses, removing tl\\'iis disincentive withorit harm to funding for orir schools and local commrinities.\\n  (n) Reassessing ru\\'ider-assessed commercial and industrial propeity in California worild primarily impact a small number of propeities owned by the largest corporations and wealthiest investors. Almost 80% of tlie tax benefits of the under-assessment allowed by the current system go to just 8% of tlie properties.\\n  (o) The benefits to orir schools, local communities and economy resulting from ending the under-assessment of comn\\'iercial and industrial property can be achieved wliile protecting small businesses throrigli exemptions and deferrals of reassessment and at the same time encouraging small businesses by creating a more level playing field and by eliminating\\n  tlie propeity tax on business eqriipment and fixtures.\\n   (p) Refonning commercial and industrial propeity assessments to fair market value will result in a fairer system for our schools, our local communities and our businesses. All businesses will compete on a level playing field, generating billions of dollars in additional support for orir schools and local communities.\\n   SEC. 3. Purpose and Intent.\\n   It is tlie intent of the People of tlie State of California to do all of tl\\'ie following in this measure:\\n   (a) Preserve in every way Proposition 13\\'s protections for liomeowners and for residential rental propeities. Tliis measure only affects the assessment of taxable commercial and industrial property.\\n   (b) Provide for increased and stable revenues for schools, cities, corinties and other local agencies by reqriiring ruider-assessed commercial and industrial propeities to be assessed based on their fair market value.\\n   (c) Distribute tlie new revenues resulting from this measure to scl\\'iools and local communities, not to tlie State.\\n   (d) Ensure tliat tlie portion of any new revenues going to local SCIIOOIS and community colleges as a result of tliis measure is treated as new revenues that are in addition to all otlier funding for scliools and comrminity colleges, including Proposition 98.\\n   (e)\\n   (f)\\n   (g)\\n   Guarantee every scliool district and community college will receive additional funding from this measure and that funds going to schools and community colleges are allocated in a mai\\'u\\'ier that is consistent witl\\'i local control funding formulas intended to advance equity.\\n   Ensure tliat any new revenues going to cities, counties, and special districts as a result of tliis measure will be allocated in tlie same maru\"ier as other property tax revenues,\\n   consistent with prior ballot measures approved by voters, to improve the qriality of life in local commrinities in all parts of California.\\n   Make ceitain tliere is complete priblic transparency by reqriiring scliools, community colleges, cities, corinties, and special districts to publicly disclose tlie new revenues they receive and liow tliose revenues are spent in a manner that is widely available and easily rinderstood.\\n   (h) Be very clear tliat tl\"iis measure only applies to taxable commercial and industrial real propeity by including provisions stating that:\\n   l) All residential propeity is exempt so homeowners and renters will not be affected in any way by tliis measure.\\n   2) This measure makes no cliange to existing laws affecting the taxation or preservation of agricultural land.\\n    (i) MakenochangetoPropositionl3\\'sconstitutionalprovisionsrelatingtothel%\\n    limitation on propeity tax rates for all taxable real property so local property taxes on commercial and industrial property will continue to be among the lowest in tlie corintry after this measure is approved by voters.\\n    (j) Ensure stability for owners of small business properties by providing an exclusion for small commercial and industrial real property owners. The intent of this provision is to provide an exclusion that applies only to the true owners of small businesses and that large property owners shall be prevented from using the exclusion for their own benefit.\\n    (k) Defer reassessments for properties in which small businesses account for 50% or more of tlie occupied space until tlie 2025-2026 lien date to provide those small business tenants additional time to clioose tlie leasing option that works for them, recognizing that the impact of tliis measure will be different for eacli propeity, depending on how close the current assessment is to the fair market value and whether or not it qualifies for the small propeity exclusion for propeities with a fair market value of $3 million or less.\\n    (l) Encourage new and existing businesses to make new investments by eliminating the business tangible personal property tax on eqriipment and fixtures for small businesses and providing a $500,000 per year exen\\'iption for all other businesses. Tlie Legislature may not reduce tliis exemption, but it may increase it.\\n    (m)Provide greater equity in the taxation of commercial and industrial properties by\\n    assessing all of tl\\'iem based on their actual fair market value just like stait-tips and new commercial and industrial propeities that already are being assessed based on their actual fair market value. The intent is for all businesses to compete on a more level playing field and make sure all businesses are paying their share to support the schools and local communities from whicl\\'i tliey benefit.\\n    (n) Reqriire tl\\'ie Legislature, after conferring with a Task Force on Propeity Tax Administration, to provide by statute for the phase-in of reassessments of under-assessed commercial and industrial real propeities so tliat corinty assessors may effectively implement the new law. Such phase-in will begin witli the lien date for the 2022-23 fiscal year and occur over several years. Affected owners sliall only be obligated to pay the taxes based on the new assessed value begii\\'uiing with the lien date for the fiscal year wlien tlie assessor has completed the reassessment.\\n    (o) Require the Legislature to ensure tliat the phase-in provisions provide affected owners of under-assessed commercial and industrial real propeities reasonable time to pay any increase in tlieir tax obligations resulting from this measure.\\n    (p) Provide for the recovery of actual direct administrative costs incuned by counties to effectively implement tlie new law.\\n     (q) Ensure that the General Fund and other \\'funds of the State are held harmless by reimbursing the State for reductions in tax revenue carised by the deductibility of the property tax.\\n     (r) Maintain the Board of Equalization\\'s oversiglit over the property tax system to assure the public that assessments of commercial and industrial real property in every corinty are equitable and uniform as required by this measure, and to further ensure that the Board of Equalization provides statewide assistance as necessary to support the efficient implementation of tliis measure within all 58 counties.\\n     SEC. 4. Section 8.7 of Article XVI of the California Constitution is added to read:\\n     SEC. 8.7. (a) Tlie Local School and Community College Property Tax Fund is hereby created in the State Treasury, to be held in ttaust, and is continuorisly appropriated for the support of local education agencies as that term is defined in section 421 of the Education Code as that statute read on Janriary 1, 2020, and for tlie suppoit of community college districts. Tlie moneys\\n     deposited in the Local School and Community College Propeity Tax Fund shall be lield in trust for schools, and sliall be distributed as follows:\\n     (1) Elevenpercent(11%)ofthemoneyssliallbeallocatedbytlieBoardofGovernorsofthe\\n     California Comrminity Colleges to community college districts in proportion to the funding calculated for each district prirsuant to the distribution formulas operative in statute as of Jamiary 1, 2020, or any successor statute, provided tliat property tax revemies calculated pursuant to section 84751 of tlie Education Code, or any successor statute, that exceed the total funding calculated for a district pyirsuant to the tlien-operatiye distribution formulas shall be subtracted from that district\\'s propoitionate sliare of the Local Scliool and Community College Propeity\\n     Tax Fund.\\n     (2) Eighty-nine percent (89%) of tl\\'ie moneys shall be allocated by the Superintendent of Public Instruction to school districts, cliarter schools and county offices of education as follows:\\n     (A) To scliool districts and chaiter scliools, in proportion to each school district\\'s or cliaiter scl\\'iool\\'s total funding calculated prirsuant to subdivisions (a)-(i), inclusive, of section 42238.02\\n     of tlie Education Code, as tliose provisions read on July 1, 2019. Any school district or charter school that qualifies as a \"basic aid school district\" or \"excess tax entity\" under subdivision (o)\\n     of tliat section shall have subtracted from its propoitionate sl\\'iare of the Local School and Comn\\'iunity College Property Tax Fund tlie amorint by which the sum calculated in subdivision\\n     (j) of that section exceeds the amount calculated pursuant to subdivisions (a)-(i), inclusive, as each of those provisions read on July 1, 2019.\\n     (B) To county offices of education, in propoition to eacl\\'i office\\'s total funding calculated pursuant to section 2574 of the Education Code as that section read on July 1, 2019.\\n     (3) Notwitlistanding tlie above, no school district or cliaiter school sliall receive from the Local Scliool and Community College Property Tax Fund less than $100 per unit of average\\n     daily attendance, adjusted annually upward or downward by the same percentage that tlie Local School and Community College Property Tax Fund grew or declined from the previoris year, and no community college district shall receiye from the Local School and Community College\\n      Propeity Tax Fund less than $100 per enrolled full time equivalent student, adjusted annually upward or downward by the same percentage that tlie Local School and Community College Propeity Tax Fund grew or declined from the previoris year.\\n      (b) Except as provided in paragraph (2) of subdivision (d) of Section 8.6 of this Aiticle, notwithstanding any otl\\'ier law, the moneys deposited in the Local School and Community\\n      College Property Tax Fund shall not be subject to appropriation, reversion, or transfer by the Legislature, the Governor, the Director of Finance, or the Controller for any prirpose other than those specified in this section, nor shall these revenues be loaned to the General Fund or any otlier fund of tlie State or any local goveri\\'unent fund.\\n      (c) Moneys allocated to local education agencies, as tliat term is defined in section 421 of tlie Education Code as tliat statute read on January 1, 2020, and to community college districts from the Local School and Comrmuiity College Propeity Tax Fund sliall supplement, and shall not replace, otlier funding for education. Funds deposited into or allocated from the Local School\\n      and Community College Propeity Tax Fund shall not be part of \"total allocations to school districts and community college districts from General Fund proceeds of taxes appropriated prirsuant to Article XIII B and allocated local proceeds of taxes\" for purposes of paragraphs (2) and (3) of subdivision (b) of Section 8 of this Aiticle or for purposes of Section 21 of this\\n      Article. Except as provided in subdivision (c) of Section 8.6 of this Article, revernies generated\\n      by Section 2.5 of Article XIII A shall not be deemed to be General Fund revenues wliich may be appropriated prirsuant to Article XIII B for prirposes of paragrapli (1) of subdivision (b) of\\n      Section 8 of this Article, nor shall tliey be considered in tlie determination of per capita General Fund revenues for purposes of subdivisions (b) and (e) of Section 8 of tliis Aiticle.\\n      (d) Except as provided in subdivision (c) of Section 8.6 of this Aiticle, revenues generated by Section 2.5 of Article XIII A sliall not be deemed to be General Fund proceeds of taxes that may be appropriated prirsuant to Aiticle XIII B for pruaposes of Section 20 or Section 21 of this\\n      Aiticle.\\n      SEC. 5. Section 8.6 of Article XVI of the California Constitution is added to read:\\n      SEC. 8.6. (a) Tlie Legislature sliall provide by statute a methodology, based on liistorical\\n      experience, for determining the additional revemie generated in each coruity each fiscal year as a result of tlie application of the tax rate specified in subdivision (a) of Section l of Article XIII A and tlie application of Section 2.5 of Aiticle XIII A. Tl\\'ie determination as to the amount of additional revenue in each cormty shall be transmitted to tlie corinty auditor ai\\'u\\'iually for use for the calculations reqriired by tliis section.\\n      (b) After transferring the necessary funds prirsuant to subdivisions (c), (d) and (e) and subparagraph (B) of paragrapli (1) of this subdivision, all additional revenue resulting from tlie application of tlie tax rate specified in subdivision (a) of Section I of Aiticle XIII A and the\\n       application of Section 2.5 of Aiticle XIII A shall be allocated and transferred by the corinty\\n       auditor as follows:\\n       (l) (A) First, to the Local School and Community College Propeity Tax Fund created\\n       prirsuant to Section 8.7 of this Article, in an amount equal to tlie SCIIOOIentities\\' share of\\n       property taxes as determined prirsuant to Chapter 6 (commencing with Section 95) of Part O.5 of Division 1 of the Revenue and Taxation Code, as that chapter read on January 1, 2020.\\n       (B) Prior to making the transfer prirsuant to subparagraph (A) of this subdivision, the county ariditor sliall subtract an amount equal to the county\\'s share of the increase in\\n       appropriations of State General Fund proceeds of taxes for the support of school districts and community college districts pursuant to Section 8 of Article XVI due to tl\\'ie revenue loss\\n       resulting from tl\\'ie exemptions provided by Section 3.1 of Article XIII, as determined by the Director of Finance. The county\\'s share of additional State General Fund appropriations shall be transferred by the county auditor to the General Fund prior to the allocation specified in subparagraph (A) of tl\\'iis subdivision. The amount determined by tlie Director of Finance\\n       pursuant to this subparagrapl\\'i shall for each fiscal year be apportioned by corinty in proportion to the revenue loss resulting from tlie exemptions provided by Section 3.1 of Article XIII.\\n       (2) Second, among cities, corinties, and special districts prirsuant to Chapter 6 (commencing\\n       with Section 95) of Part O.5 of Division 1 of tlie Revenue and Taxation Code, as that cl\\'iapter read on January 1, 2020.\\n       (c) The Franchise Tax Board sliall determine the reduction to the General Fund and any other affected state fund of revenues derived from the taxes imposed by the Personal Income Tax Law (Part 10 (commencing witli Section 17001) of Division 2 of tlie Revenue and Taxation Code)\\n       and tlie Corporation Tax Law (Pait 11 (commencing witli Section 23001) of Division 2 of the Revenue and Taxation Code), as those laws read on January 1, 2020, due to tlie deduction of any net increase in property taxes resulting from the implementation of Section 2.5 of Aiticle XIII A and subdivision (a) of Section 3.1 of Aiticle XIII. The amorint of reduction as determined by the Francl\\'iise Tax Board shall be transferred by tlie county auditor to the General Fund and any other affected state fund prior to the allocation specified in subdivision (b). For prirposes of making tlie determinations reqriired by Section 8, 20 and 21 of tliis Article, tl\\'ie amount transferred to the General Fund prirsuant to this subdivision shall be deemed to be General Fund revenues which may be appropriated pursuant to Aiticle XIII B and General Fund proceeds of taxes appropriated prirsuant to Article XIII B, and sliall be included in tlie calculation of per capita General Fund revemies. The amount transferred pursuant to tliis subdivision sliall for each fiscal year be appoitioned among the counties in proportion to each county\\'s contribution to tlie total additional revenue resulting from tlie application of the tax rate specified in subdivision (a) of Section I of Article XIII A and the application Section 2.5 of Article XIII A deteimined for all counties.\\n       (d) (1) Each coruity or city and county shall be aru\"iually compensated for tlie actual direct administrative costs of implementing Section 2.5 of Aiticle XIII A and Section 3.1 of Article\\n       XIII as identified by tlie board of supervisors of tlie corinty or city and corinty consistent with statutes identifying tliose costs. Tlie Legislature sliall determine by statute wliat constitutes actual direct administrative costs for purposes of this subdivision. Sucl\\'i costs shall at a minimum\\n        include the costs of assessment, assessment appeals, legal counsel, tax allocation and\\n        distribution, and auditing and enforcement of the provisions of Section 3.1 of Article XIII and Section 2.5 of Aiticle XIII A. It is the intent of tliis subdivision to provide full adeqriate funding to counties to cover all costs associated with implementation of the Act.\\n        (2) The Legislature shall determine by statute the initial stait-up costs necessary for each county or city and corinty and the Board of Eqrialization to implement tl\\'ie Act and shall appropriate State General Fund monies to pay for such starUip costs rintil sufficient funds are available to pay for all ongoing costs to implement the Act, at whicli time tlie statute sliall\\n        provide for the State General Fund to be reimbursed.\\n        (e) Each county or city and corinty shall annually be reimbursed for actual refunds of\\n        property taxes paid in the prior fiscal year as a result of corrections to assessments made pursuant to Section 2.5 of Article XIII A. Tlie amount reimbursed prnsuant to this subdivision sliall for eacli fiscal year be subtracted from eacli corinty\\'s contribution to tlie total additional revemie resulting from the application of Section 2.5 of Article XIII A as a result of the application of the tax rate specified in subdivision (a) of Section 1 of Article XIII A.\\n        (f) All local education agencies, community colleges, corinties, cities and counties, cities, and special districts that receive funds from tlie revenues generated by Section 2.5 of Article XIII A sliall priblicly disclose for each fiscal year, including in their annual budgets, tlie amount of property tax revenues tl\\'iey received for that fiscal year as the result of Section 2.5 of Article XIII A and IIOW those revemies were spent. Such disclosure shall be made so tliat it is widely\\n        available to the priblic and written so as to be easily rmderstood.\\n        SEC. 6. Section 2.5 of Article XIII A of the California Constitution is added to read:\\n        SEC. 2.5. (a) (1) Notwithstanding Section 2 of this Article, for the lien date for the 2022-23\\n        fiscal year and eacli lien date tliereafter, the \"full cash value\" of commercial and industrial real propeity that is not otlierwise exempt under tlie Constitution is the fair market value of such real property as of that date as determined by the county assessor of the county in wliich sucli real property is located, except as provided by the Legislature prirsuant to subdivision (b).\\n        (2) Paragraph (l) of this subdivision shall not apply to residential propeity as defined in tliis section, whether it is occupied by a liomeowner or a renter. Residential propeity as defined in this section sliall be assessed as reqriired by Section 2 of tliis Article. Paragrapli (l) of tliis subdivision sliall also not apply to real property used for commercial agricultural production as defined in this section. Real propeity rised for commercial agricultural production as defined in this section sliall be assessed as reqriired by Section 2 of tliis Article.\\n        (b) The Legislature shall establisli a Task Force on Property Tax Administration immediately after this section is enacted, including a county assessor or designee, a Board of Eqrialization member or designee, a proponent of tliis Act or designee, a taxpayer representative, and a member of tlie Legislature or designee. Tlie Task Force shall priblicly convene immediately ripon its creation to examine and recommend to tlie Legislature all statutory and regulatory changes\\n         necessary for the equitable implementation of this measure consistent with its prirpose and intent. Tl\\'ie Legislature, a\\'fter conferring witl\\'i the Task Force, shall provide by statute for the phase-in of the reassessment of commercial and industrial real propeity as reqriired by paragraph (1) of subdivision (a). Any sucli phase-in sliall provide for reassessment of a percentage of all commercial and industrial real propeities within eacli coruity commencing with the lien date for the 2022-23 fiscal year and extending over two or more lien dates each fiscal year thereafter, in order to ensure a reasonable workload and implementation period for corinty assessors, including provision for processing and timing of assessment appeals. An owner shall first be obligated to pay tlie taxes based on the new assessed value beginning with the lien date for the fiscal year when tlie corinty assessor lias completed the reassessment. The phase-in also shall provide taxpayers whose property lias been reassessed a reasonable timeframe within which to pay any increase in taxes. After tlie initial reassessment of commercial and industrial real propeity\\n         pursuant to tliis subdivision, sucli commercial and industrial real propeity shall be periodically reassessed no less freqriently than every three years as determined by the Legislature. Notwithstanding existing statutes, tlie Legislature sliall, in consultation witli county assessors, develop a process for hearing appeals resulting from tlie reassessment of propeities prirsriant to tl\\'iis section tliat is consistent witl\"i the following:\\n         (1)\\n         witliin\\n         (2)\\n         properly\\n         (3)\\n         initial application before the local assessment appeals board.\\n         (4) Tlie process sliall ensure tliat decisions by local administrative hearing bodies sucli as assessinent appeals boards, if subject to judicial review, are subject only to de novo judicial review On issues of law, wliile issues of fact, including valuation, sl\\'iall be reviewed under tlie substantial evidence standard.\\n         (c) For prirposes of tliis section:\\n         (l) \"Commercial and industrial real propeity\" means any real propeity tliat is used as commercial or industrial property, or is vacant land not zoned for residential use and not used for commercial agricultural production. For putaposes of this paragraph, vacant land shall not\\n         include real property that is used or protected for open space, a park, or the equivalent\\n         designation for land essentially free of structures, natural in cliaracter to provide opportunities for recreation and education, and intended to preserve scenic, cultural, or historic vahies.\\n         (2) \"Mixed-use real propeity\" means real propeity on which botli residential and commercial\\n         or industrial uses are permitted.\\n         (3) \"Real propeity rised for commercial agricultural production\" means land that is used for producing commercial agricultural commodities.\\n         (4%A) \"Residential property\" shall include real property used as residential propeity, inchiding both single-family and multi-unit structures, and tlie land on whicli tliose structures are\\n         constructed or placed.\\n         The process sliall not include automatic acceptance of tlie applicant\\'s opinion of values a given tii\\'ne-fran\"ie.\\n         Tlie process shall impose on tlie taxpayer tl\\'ie burden of proof tliat tl\"ie propeity was i\\'iot valued.\\n         The process shall reqriire tlie taxpayer to provide evidence relevant to any appeal in tlie\\n          (B) Tlie Legislature shall provide by statute that any property zoned as commercial or industrial but used as long-term residential propeity shall be classified as residential for pruposes of paragraph (2) of subdivision (a). For mixed-use real property, the Legislature shall ensure\\n          only that portion of the propeity tliat is used for commercial and industrial purposes shall be subject to reassessment as required by paragraph (1) of subdivision (a). The Legislature shall\\n          also define and provide by statute that limited commercial uses of residential property, such as home offices, home-based businesses or shoit-term rentals, shall be classified as residential for putposes of paragraph (2) of subdivision (a). The Legislature may provide for an exclusion from reassessment for the commercial share of mixed use propeity provided seventy-five percent\\n          (75%) or more of tlie propeity by sqriare footage or value is residential.\\n          (d) (1) Subject to paragrapli (2) of this subdivision, upon reassessment pursuant to subdivisions (a) and (b), eacli commercial and industrial real property with a fair market value\\n          of three million dollars ($3,000,000) or less shall not be subject to reassessment prirsuant to paragrapli (1) of subdivision (a) and shall be assessed as reqriired by Section 2 of this\\n          Aiticle. Tlie amorint specified in this paragrapli shall be adjusted for inflation every two years commencing January 1, 2025, as determined by the State Board of Equalization. Tl\\'ie State Board of Eqrialization shall calculate tlie adjustment separately for each county taking into\\n          consideration differences in average commercial and industrial market values among counties.\\n          (2) Notwithstandingparagraph(l)ofthissubdivision,realpropertythatwouldotherwise\\n          comply witli tlie exclusion set foith in paragraph (l) of tliis subdivision shall be subject to reassessment pursuant to paragraph (1) of subdivision (a) if any of the direct or indirect\\n          beneficial owners of such real propeity own a direct or indirect beneficial ownership interest(s)\\n          in other commercial and/or industrial real property located in tlie State, which sucli real property\\n          in tlie aggregate (including the subject property) has a fair market vahie in excess of three million dollars ($3,000,000). The amoruit specified in tliis paragraph sliall be adjusted for inflation every two years commencing January 1, 2025, as determined by the State Board of Eqrialization.\\n          (3) All determinations of fair market value rinder this subdivision shall be determined by the county assessor of tlie corinty in wliicli tlie propeity is located, and such determinations by\\n          tlie corinty assessor sliall be conclusive and subject only to judicial review for abuse of\\n          discretion.\\n          (4) In order to be eligible for tlie exclusion provided by paragraph (1) of tliis subdivision,\\n          the owner of tlie real property sliall make a claim and certify annually to tl\\'ie corinty assessor\\n          rinder penalty of perjury that tlie conditions reqriired by paragraphs (1) and (2) of this subdivision for exemption from reassessment liave been met and shall be subject to aridit by the corinty or the State as to that ceitification. Tlie Board of Equalization sliall have the arithority to conduct any audits on belialf of the State.\\n          (5) Any real property excluded from reassessment rinder paragrapli (1) of this subdivision sl\\'iall only be excluded from reassessment so long as it meets tlie conditions imposed by\\n          paragraplis (1) and (2) of this subdivision. If there is any change in the direct or indirect\\n          beneficial ownersliip of such real propeity, a new claim and certification must be made to tlie corinty assessor.\\n           (6) Any appeals by taxpayers who are found not to be excluded from reassessment pursuant to paragraph (1) of tliis subdivision shall be subject to the process for hearing appeals as provided in subdivision (b).\\n           (e) (l) Provided fi-[ty percent (50%) or more of tlie occupied square footage of a commercial or industrial real property is occupied by a small business as defined in paragraph (4) of this subdivision, the provisions of paragraph (1) of subdivision (a) shall not take effect prior to the lien date for the 2025-26 fiscal year; provided, however, tliat if the Legislature establishes by statute pursuant to subdivision (b) that a real property qualified rinder tliis paragraph shall be reassessed on a lien date subseqrient to tlie 2025-26 fiscal year, tlien such property shall be reassessed commencing on that subsequent lien date.\\n           (2) In orderto beeligible for thedeferralprovidedby paragraph(1) of this subdivision,the owner of the property sliall make a claim and ceitify aru\\'iually to tlie corinty assessor under\\n           penalty of perjury tliat tlie conditions required by paragraph (1) of this subdivision for deferral from reassessment liave been met and shall be subject to audit by tlie county or the Board of Eqrialization as to that certification.\\n           (3) Any real property for which reassessment is deferred under paragrapli (1) of tliis subdivision shall only be eligible for deferral so long as it meets the conditions imposed by paragraph (l) of this subdivision and if there is any change in the direct or indirect beneficial ownersl\\'iip of sucli real propeity, a new claim and ceitification must be made to the county assessor. Upon termination of the deferral, tlie propeity shall be subject to paragraph (1) of subdivision (a).\\n           (4) For purposes of this subdivision, tl\\'ie term small business sliall include only those businesses whicli meet all of tlie following conditions:\\n           (A) The business lias fewer tlian 50 annual full-time eqriivalent employees.\\n           (B) The business is independently owned and operated such tliat tlie business ownership\\n           interests, management and operation are not subject to control, restriction, modification or limitation by an outside source, individual or another business.\\n           (C) Tlie business owns real propeity located in California.\\n           (f) For purposes of this section tlie failure in any year to claim, in a maru\\'ier reqriired by the laws in effect at tlie time tlie claim is required to be made, an exclusion or classification which reduces or defers an assessment or reassessment sliall be deemed a waiver of the exclusion or classification for tliat year.\\n           (g) Using tlie methodology prescribed by tlie Legislature pursuant to subdivision (a) of Section 8.6 of Aiticle XVI, tlie percentage change in gross taxable assessed valuation within a city, county, or a city and county rised to calculate an entity\\'s vehicle license fee adjustment amount prirsuant to Section 97.70 of the Revenue and Taxation Code shall not include the additional assessed valriation that results from the application of this section.\\n           (h) Notwitlistanding Section 16 of Aiticle XVI or any otlier law, the additional assessed valuation that results from the application of this section shall not be factored into to any division\\n            of taxes or calculation of growth for treatment as tax increment and shall not be diverted in any manner whatsoever.\\n            SEC. 7. Section 3.1 of Aiticle XIII of the California Constitution is added to read:\\n            SEC. 3.1. (a) (1) For each taxpayer paying the tax on tangible personal propeity, including business equipment and fixtures, used for business purposes, either of the following shall apply: (A) (i) For a taxpayer that is a small business, as defined in paragraph (4) of subdivision (e) of Section 2.5 of Article XIII A, all tangible personal property owned and used for business purposes is exempt from taxation.\\n            (ii) A taxpayer shall make a claim and certify ai\\'uuially to the county assessor under penalty of perjury tliat tlie condition required by this subparagraph for exemption has been met and such claim shall be subject to audit by the county or tlie state as to that certification.\\n            (B) ExceptforataxpayersubjecttosubparagrapJA)ofparagraph(l)ofthissubdivision,an amount of up to five l\\'iundred thorisand dollars ($500,000) of combined tangible personal\\n            propeity and fixtures, per taxpayer, is exempt from taxation.\\n            (2) Aircraft and vessels shall not be subject to this exemption.\\n            (3) Tlie Legislature sliall not lower the exemption amounts provided by this subdivision or\\n            change tl\\'ieir application, but may increase the exemption amount specified in subparagraph (B) of paragraph (1) of tliis subdivision consistent witli the authority enumerated in Section 2 of this Article.\\n            (b) The Legislature shall provide by statute that all related entities, including but not limited\\n            to any subsidiaries, liolding companies, or parent corporations, are considered one \"taxpayer\" for the pruposes of this section.\\n            SEC. 8. Section 16 of Aiticle XIII B of tlie California Constitution is added to read:\\n            SEC. 16. (a) For purposes of this article, \"proceeds of taxes\" shall not include the additional revenues generated by Section 2.5 of Article XIII A.\\n            (b) For purposes of this aiticle, appropriations subject to limitation of each entity of goveri\\'u\\'nent shall not include appropriations of the additional reveruies collected as a result of the implementation of Section 2.5 of Article XIII A.\\n            SEC. 9. Effective Date.\\n            This measure shall become operative on January 1, 2022, except tliat subdivision (a) of Section 3.1 of Article XIII sliall become operative on January 1, 2024, and subdivision (d) of Section 8.6 of Aiticle XVI and subdivision (b) of Section 2.5 of Aiticle XIII A shall become operative immediately ripon passage of this measure.\\n            SEC. 10. Severability\\n             The provisions of tliis Act are severable. If any portion, section, subdivision, paragrapli, clarise, sentence, phrase, word, or application of this Act is for any reason held to be invalid by a\\n             decision of any court of competent jurisdiction, that decision shall not affect the validity of the remaining portions of tliis Act. The People of the State of California hereby declare that they would have adopted this Act and each and every poition, section, subdivision, paragraph, clause, sentence, plirase, word, and application not declared invalid or unconstitutional without regard to whether any poition of this Act or application thereof worild be subseqriently declared invalid. Notwithstanding tlie foregoing, Section 7 of this Act is non-severable from Section 6 of this Act.\\n             SEC. 11. Liberal Construction\\n             Tliis Act shall be liberally construed in order to effectuate it prirposes as articulated in Section 3 of tliis Act.\\n\\n'"
            ]
          },
          "metadata": {
            "tags": []
          },
          "execution_count": 4
        }
      ]
    },
    {
      "cell_type": "code",
      "metadata": {
        "id": "1ha34kQ0hNUv"
      },
      "source": [
        "h = summarize([f])"
      ],
      "execution_count": 5,
      "outputs": []
    },
    {
      "cell_type": "code",
      "metadata": {
        "id": "4iDS_sFyh9a9",
        "outputId": "25c5621c-1d2d-4d3c-9780-95955704307f",
        "colab": {
          "base_uri": "https://localhost:8080/",
          "height": 34
        }
      },
      "source": [
        "h"
      ],
      "execution_count": 13,
      "outputs": [
        {
          "output_type": "execute_result",
          "data": {
            "text/plain": [
              "['A bill to increase funding for schools, local communities, and small businesses in California.']"
            ]
          },
          "metadata": {
            "tags": []
          },
          "execution_count": 13
        }
      ]
    },
    {
      "cell_type": "code",
      "metadata": {
        "id": "zGTTp8gdh-4I"
      },
      "source": [
        ""
      ],
      "execution_count": null,
      "outputs": []
    }
  ]
}